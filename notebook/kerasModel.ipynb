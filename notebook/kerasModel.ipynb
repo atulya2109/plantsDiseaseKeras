{
 "cells": [
  {
   "cell_type": "code",
   "execution_count": 7,
   "metadata": {},
   "outputs": [],
   "source": [
    "import numpy\n",
    "import os\n",
    "import cv2\n",
    "from keras.models import Sequential\n",
    "import matplotlib.pyplot as plt\n",
    "from keras.layers.convolutional import Conv2D\n",
    "from keras.layers.convolutional import MaxPooling2D\n",
    "from keras.layers.core import Activation, Flatten, Dropout, Dense\n",
    "from keras.optimizers import Adam"
   ]
  },
  {
   "cell_type": "code",
   "execution_count": 28,
   "metadata": {},
   "outputs": [],
   "source": [
    "DATA = {}\n",
    "PATH = \"./data/PlantVillage/\"\n",
    "DEFAULT_IMG_SIZE = tuple((256,256))\n",
    "X = []\n",
    "Y = []\n",
    "KEY  = {}"
   ]
  },
  {
   "cell_type": "code",
   "execution_count": null,
   "metadata": {},
   "outputs": [
    {
     "name": "stdout",
     "output_type": "stream",
     "text": [
      "[INFO] PROCESSING Tomato__Tomato_YellowLeaf__Curl_Virus\n",
      "[INFO] COMPLETED = 36%"
     ]
    }
   ],
   "source": [
    "def toDict():\n",
    "    folders = os.listdir(PATH)\n",
    "    img_list = []\n",
    "    c = 0\n",
    "    for folder in folders:\n",
    "        print(\"[INFO] PROCESSING \" + folder)\n",
    "        if os.path.isdir(PATH+folder):\n",
    "            total = len(os.listdir('{}{}'.format(PATH,folder)))\n",
    "            count = 0\n",
    "            images = os.listdir(\"{}{}\".format(PATH,folder))\n",
    "            KEY[folder] = c\n",
    "            c += 1\n",
    "            img_list = []\n",
    "            for image in images:\n",
    "                count += 1\n",
    "                print(\"\\r[INFO] COMPLETED = {}%\".format(count*100//total),end = '')\n",
    "                img = cv2.imread(\"{}{}/{}\".format(PATH,folder,image))\n",
    "                if img is not None :\n",
    "                    if img.shape != DEFAULT_IMG_SIZE:\n",
    "                        img = cv2.resize(img,DEFAULT_IMG_SIZE)\n",
    "                    img_list.append(img.astype('float32')/255)\n",
    "            DATA[folder] = img_list\n",
    "        \n",
    "toDict()   "
   ]
  },
  {
   "cell_type": "code",
   "execution_count": 36,
   "metadata": {},
   "outputs": [],
   "source": [
    "for key, value in DATA.items():\n",
    "    for v in value:\n",
    "        X.append(v)\n",
    "        Y.append(KEY[key])\n",
    "X = numpy.array(X)\n",
    "Y = numpy.array(Y)"
   ]
  },
  {
   "cell_type": "code",
   "execution_count": 46,
   "metadata": {},
   "outputs": [
    {
     "data": {
      "text/plain": [
       "array([[[0.4       , 0.38431373, 0.43137255],\n",
       "        [0.3647059 , 0.34901962, 0.39607844],\n",
       "        [0.4       , 0.38431373, 0.43137255],\n",
       "        ...,\n",
       "        [0.6       , 0.58431375, 0.627451  ],\n",
       "        [0.6       , 0.58431375, 0.627451  ],\n",
       "        [0.60784316, 0.5921569 , 0.63529414]],\n",
       "\n",
       "       [[0.38431373, 0.36862746, 0.41568628],\n",
       "        [0.40392157, 0.3882353 , 0.43529412],\n",
       "        [0.4117647 , 0.39607844, 0.44313726],\n",
       "        ...,\n",
       "        [0.5882353 , 0.57254905, 0.6156863 ],\n",
       "        [0.5921569 , 0.5764706 , 0.61960787],\n",
       "        [0.6       , 0.58431375, 0.627451  ]],\n",
       "\n",
       "       [[0.3529412 , 0.3372549 , 0.38431373],\n",
       "        [0.43137255, 0.41568628, 0.4627451 ],\n",
       "        [0.45882353, 0.44313726, 0.49019608],\n",
       "        ...,\n",
       "        [0.5921569 , 0.5764706 , 0.61960787],\n",
       "        [0.6       , 0.58431375, 0.627451  ],\n",
       "        [0.6117647 , 0.59607846, 0.6392157 ]],\n",
       "\n",
       "       ...,\n",
       "\n",
       "       [[0.48235294, 0.46666667, 0.49019608],\n",
       "        [0.49411765, 0.47843137, 0.5019608 ],\n",
       "        [0.5372549 , 0.52156866, 0.54509807],\n",
       "        ...,\n",
       "        [0.7294118 , 0.70980394, 0.7176471 ],\n",
       "        [0.7411765 , 0.72156864, 0.7294118 ],\n",
       "        [0.7137255 , 0.69411767, 0.7019608 ]],\n",
       "\n",
       "       [[0.5019608 , 0.4862745 , 0.50980395],\n",
       "        [0.5411765 , 0.5254902 , 0.54901963],\n",
       "        [0.6       , 0.58431375, 0.60784316],\n",
       "        ...,\n",
       "        [0.7294118 , 0.70980394, 0.7176471 ],\n",
       "        [0.7529412 , 0.73333335, 0.7411765 ],\n",
       "        [0.7372549 , 0.7176471 , 0.7254902 ]],\n",
       "\n",
       "       [[0.5058824 , 0.49019608, 0.5137255 ],\n",
       "        [0.50980395, 0.49411765, 0.5176471 ],\n",
       "        [0.5294118 , 0.5137255 , 0.5372549 ],\n",
       "        ...,\n",
       "        [0.7490196 , 0.7294118 , 0.7372549 ],\n",
       "        [0.78431374, 0.7647059 , 0.77254903],\n",
       "        [0.7411765 , 0.72156864, 0.7294118 ]]], dtype=float32)"
      ]
     },
     "execution_count": 46,
     "metadata": {},
     "output_type": "execute_result"
    }
   ],
   "source": [
    "DATA['Potato___healthy'][]"
   ]
  }
 ],
 "metadata": {
  "kernelspec": {
   "display_name": "Python 3",
   "language": "python",
   "name": "python3"
  },
  "language_info": {
   "codemirror_mode": {
    "name": "ipython",
    "version": 3
   },
   "file_extension": ".py",
   "mimetype": "text/x-python",
   "name": "python",
   "nbconvert_exporter": "python",
   "pygments_lexer": "ipython3",
   "version": "3.6.7"
  }
 },
 "nbformat": 4,
 "nbformat_minor": 2
}
